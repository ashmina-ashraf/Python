{
  "nbformat": 4,
  "nbformat_minor": 0,
  "metadata": {
    "colab": {
      "name": "lab10.ipynb",
      "provenance": [],
      "collapsed_sections": [],
      "authorship_tag": "ABX9TyNZksS2dfl0ELRrBLwMb/xf",
      "include_colab_link": true
    },
    "kernelspec": {
      "name": "python3",
      "display_name": "Python 3"
    }
  },
  "cells": [
    {
      "cell_type": "markdown",
      "metadata": {
        "id": "view-in-github",
        "colab_type": "text"
      },
      "source": [
        "<a href=\"https://colab.research.google.com/github/ashmina-ashraf/Python/blob/main/lab10.ipynb\" target=\"_parent\"><img src=\"https://colab.research.google.com/assets/colab-badge.svg\" alt=\"Open In Colab\"/></a>"
      ]
    },
    {
      "cell_type": "markdown",
      "metadata": {
        "id": "naO0nErMmjkX"
      },
      "source": [
        "1. Write a program to demonstrate ZeroDivisionError and ValueError"
      ]
    },
    {
      "cell_type": "code",
      "metadata": {
        "colab": {
          "base_uri": "https://localhost:8080/"
        },
        "id": "vaLNQ9p7meu6",
        "outputId": "615f1871-0901-4029-de88-659069883d3c"
      },
      "source": [
        "print(\"\\tDIVISION\\n\")\r\n",
        "try:\r\n",
        "  a = int(input(\"Enter Divident:\\t\"))\r\n",
        "  b = int(input(\"Enter divisor:\\t\"))\r\n",
        "  print(\"\\nResult:\\t\",a/b)\r\n",
        "except ZeroDivisionError  as zde:\r\n",
        "  print(\"\\nDivision by zero is not defined. Please enter a non-zero divisor.\")\r\n",
        "except ValueError as ve:\r\n",
        "  print(\"\\nPlease enter an integer value.\")"
      ],
      "execution_count": null,
      "outputs": [
        {
          "output_type": "stream",
          "text": [
            "\tDIVISION\n",
            "\n",
            "Enter Divident:\t34\n",
            "Enter divisor:\t0\n",
            "\n",
            "Division by zero is not defined. Please enter a non-zero divisor.\n"
          ],
          "name": "stdout"
        }
      ]
    },
    {
      "cell_type": "markdown",
      "metadata": {
        "id": "5_o6HMWBmin8"
      },
      "source": [
        "2. Write a program that accepts an integer from user and raises\r\n",
        "ValueError with argument ‘Abnormal Condition’, if the reading is\r\n",
        "not within 90 – 120."
      ]
    },
    {
      "cell_type": "code",
      "metadata": {
        "colab": {
          "base_uri": "https://localhost:8080/"
        },
        "id": "XUqoV2Jcm9F7",
        "outputId": "d9c50f5d-0bb3-4c62-9b64-5ccb2e331285"
      },
      "source": [
        "try:\r\n",
        "  n = int(input(\"Enter a number between 90 and 120:\\t\"))\r\n",
        "  if n < 90 or n >120:\r\n",
        "    raise ValueError('Abnormal Condition')\r\n",
        "except ValueError as ve:\r\n",
        "  print(ve)"
      ],
      "execution_count": null,
      "outputs": [
        {
          "output_type": "stream",
          "text": [
            "Enter a number between 90 and 120:\t100\n"
          ],
          "name": "stdout"
        }
      ]
    },
    {
      "cell_type": "markdown",
      "metadata": {
        "id": "Sk3a_mppm0jI"
      },
      "source": [
        "3. Write a custom exception which is raised if user entered login\r\n",
        "credentials remain invalid."
      ]
    },
    {
      "cell_type": "code",
      "metadata": {
        "colab": {
          "base_uri": "https://localhost:8080/"
        },
        "id": "5kMa5eifm-b5",
        "outputId": "063938f4-3a0a-467a-8df6-1b0929093d4d"
      },
      "source": [
        "class PasswordError(Exception): pass\r\n",
        "\r\n",
        "try:\r\n",
        "  password = input(\"Enter your password:\\t\")\r\n",
        "  if password != 'admin':\r\n",
        "    raise PasswordError(\"Password you entered is incorrect. Try Again!\")\r\n",
        "  else:\r\n",
        "    print(\"\\nWelcome!\")\r\n",
        "except PasswordError as pe:\r\n",
        "  print(pe)"
      ],
      "execution_count": null,
      "outputs": [
        {
          "output_type": "stream",
          "text": [
            "Enter your password:\tyes\n",
            "Password you entered is incorrect. Try Again!\n"
          ],
          "name": "stdout"
        }
      ]
    },
    {
      "cell_type": "markdown",
      "metadata": {
        "id": "AWMWUofsm3hU"
      },
      "source": [
        "4. Write example program to demonstrate Chained exception, re-\r\n",
        "raised exception and AssertError (self-study) in Python."
      ]
    },
    {
      "cell_type": "code",
      "metadata": {
        "id": "imkVYkVJm8Fn",
        "colab": {
          "base_uri": "https://localhost:8080/"
        },
        "outputId": "7abd196a-d6c4-42da-a041-a54c177bb58b"
      },
      "source": [
        "try:\r\n",
        "  print(\"Division:\\n\")\r\n",
        "  a = int(input(\"Enter an even number:\\t\"))\r\n",
        "  assert (a%2==0), 'Divident must be even'                          #Assertion\r\n",
        "  \r\n",
        "  try:\r\n",
        "    b = int(input(\"Enter Divisor:\\t\"))\r\n",
        "    print(\"Result:\\t\",a/b)\r\n",
        "  except ZeroDivisionError as e:\r\n",
        "    raise IOError('Divisor cannot be 0') from ZeroDivisionError     #Chained Exception\r\n",
        "  except ValueError as ve:\r\n",
        "    print('From Inner block')   \r\n",
        "    raise                                                           #Re-raised Exception\r\n",
        "\r\n",
        "except IOError as ioe:\r\n",
        "  print(\"Chained Exception:\\t\",ioe)\r\n",
        "except AssertionError as ae:\r\n",
        "  print(ae)\r\n",
        "except ValueError as ve:\r\n",
        "  print('Enter an integer')"
      ],
      "execution_count": null,
      "outputs": [
        {
          "output_type": "stream",
          "text": [
            "Division:\n",
            "\n",
            "Enter an even number:\t6\n",
            "Enter Divisor:\tq\n",
            "From Inner block\n",
            "Enter an integer\n"
          ],
          "name": "stdout"
        }
      ]
    }
  ]
}